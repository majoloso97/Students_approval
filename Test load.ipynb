{
 "cells": [
  {
   "cell_type": "code",
   "execution_count": 2,
   "id": "bfa54990",
   "metadata": {},
   "outputs": [],
   "source": [
    "import cloudpickle as pkl\n",
    "file = open('./model.pkl', 'rb')\n",
    "model = pkl.load(file)"
   ]
  },
  {
   "cell_type": "code",
   "execution_count": 8,
   "id": "6a056ea6",
   "metadata": {},
   "outputs": [
    {
     "data": {
      "text/html": [
       "<div>\n",
       "<style scoped>\n",
       "    .dataframe tbody tr th:only-of-type {\n",
       "        vertical-align: middle;\n",
       "    }\n",
       "\n",
       "    .dataframe tbody tr th {\n",
       "        vertical-align: top;\n",
       "    }\n",
       "\n",
       "    .dataframe thead th {\n",
       "        text-align: right;\n",
       "    }\n",
       "</style>\n",
       "<table border=\"1\" class=\"dataframe\">\n",
       "  <thead>\n",
       "    <tr style=\"text-align: right;\">\n",
       "      <th></th>\n",
       "      <th>sex</th>\n",
       "      <th>town</th>\n",
       "      <th>age</th>\n",
       "      <th>paes</th>\n",
       "      <th>major</th>\n",
       "      <th>faculty</th>\n",
       "      <th>VR</th>\n",
       "      <th>SR</th>\n",
       "      <th>AR</th>\n",
       "      <th>NA</th>\n",
       "      <th>MR</th>\n",
       "      <th>CSA</th>\n",
       "      <th>habits</th>\n",
       "      <th>approved</th>\n",
       "      <th>sch_type</th>\n",
       "    </tr>\n",
       "  </thead>\n",
       "  <tbody>\n",
       "    <tr>\n",
       "      <th>0</th>\n",
       "      <td>Femenino</td>\n",
       "      <td>Soyapango</td>\n",
       "      <td>23</td>\n",
       "      <td>5.52</td>\n",
       "      <td>Licenciatura en Idiomas con especialidad en la...</td>\n",
       "      <td>Facultad de CC. y Humanidades</td>\n",
       "      <td>75</td>\n",
       "      <td>15</td>\n",
       "      <td>20</td>\n",
       "      <td>5</td>\n",
       "      <td>45</td>\n",
       "      <td>5</td>\n",
       "      <td>5</td>\n",
       "      <td>Aprobado</td>\n",
       "      <td>Privado</td>\n",
       "    </tr>\n",
       "    <tr>\n",
       "      <th>1</th>\n",
       "      <td>Femenino</td>\n",
       "      <td>Soyapango</td>\n",
       "      <td>23</td>\n",
       "      <td>4.50</td>\n",
       "      <td>Licenciatura en Ciencias de la Comunicación</td>\n",
       "      <td>Facultad de CC. y Humanidades</td>\n",
       "      <td>75</td>\n",
       "      <td>20</td>\n",
       "      <td>15</td>\n",
       "      <td>50</td>\n",
       "      <td>15</td>\n",
       "      <td>5</td>\n",
       "      <td>1</td>\n",
       "      <td>Aprobado</td>\n",
       "      <td>Privado</td>\n",
       "    </tr>\n",
       "    <tr>\n",
       "      <th>2</th>\n",
       "      <td>Femenino</td>\n",
       "      <td>Soyapango</td>\n",
       "      <td>24</td>\n",
       "      <td>3.83</td>\n",
       "      <td>Licenciatura en Idiomas con especialidad en Tu...</td>\n",
       "      <td>Facultad de CC. y Humanidades</td>\n",
       "      <td>45</td>\n",
       "      <td>5</td>\n",
       "      <td>10</td>\n",
       "      <td>30</td>\n",
       "      <td>15</td>\n",
       "      <td>5</td>\n",
       "      <td>4</td>\n",
       "      <td>Aprobado</td>\n",
       "      <td>Público</td>\n",
       "    </tr>\n",
       "  </tbody>\n",
       "</table>\n",
       "</div>"
      ],
      "text/plain": [
       "        sex       town  age  paes  \\\n",
       "0  Femenino  Soyapango   23  5.52   \n",
       "1  Femenino  Soyapango   23  4.50   \n",
       "2  Femenino  Soyapango   24  3.83   \n",
       "\n",
       "                                               major  \\\n",
       "0  Licenciatura en Idiomas con especialidad en la...   \n",
       "1        Licenciatura en Ciencias de la Comunicación   \n",
       "2  Licenciatura en Idiomas con especialidad en Tu...   \n",
       "\n",
       "                         faculty  VR  SR  AR  NA  MR  CSA  habits  approved  \\\n",
       "0  Facultad de CC. y Humanidades  75  15  20   5  45    5       5  Aprobado   \n",
       "1  Facultad de CC. y Humanidades  75  20  15  50  15    5       1  Aprobado   \n",
       "2  Facultad de CC. y Humanidades  45   5  10  30  15    5       4  Aprobado   \n",
       "\n",
       "  sch_type  \n",
       "0  Privado  \n",
       "1  Privado  \n",
       "2  Público  "
      ]
     },
     "execution_count": 8,
     "metadata": {},
     "output_type": "execute_result"
    }
   ],
   "source": [
    "import pandas as pd\n",
    "data = pd.read_csv('./processed_data.csv', index_col=0)\n",
    "\n",
    "#Define not relevant columns for the classification target\n",
    "not_relevant_cols = ['year','grade']\n",
    "\n",
    "data.drop(columns=not_relevant_cols, inplace=True)\n",
    "data.head(3)"
   ]
  },
  {
   "cell_type": "code",
   "execution_count": 11,
   "id": "4296faf7",
   "metadata": {},
   "outputs": [],
   "source": [
    "X = data.drop(columns='approved')\n",
    "y = data.approved"
   ]
  },
  {
   "cell_type": "code",
   "execution_count": 14,
   "id": "ec1e4f4a",
   "metadata": {},
   "outputs": [],
   "source": [
    "from sklearn.preprocessing import LabelEncoder\n",
    "encoder = LabelEncoder()\n",
    "y = encoder.fit_transform(y)"
   ]
  },
  {
   "cell_type": "code",
   "execution_count": 15,
   "id": "bc5b2f8e",
   "metadata": {},
   "outputs": [
    {
     "data": {
      "text/plain": [
       "0.7374833110814419"
      ]
     },
     "execution_count": 15,
     "metadata": {},
     "output_type": "execute_result"
    }
   ],
   "source": [
    "model.score(X,y)"
   ]
  },
  {
   "cell_type": "code",
   "execution_count": 22,
   "id": "fb3d49fa",
   "metadata": {},
   "outputs": [
    {
     "name": "stdout",
     "output_type": "stream",
     "text": [
      "['Femenino', 'Masculino']\n"
     ]
    }
   ],
   "source": [
    "dic = {}\n",
    "dic['sex'] = X.sex.unique().tolist()\n",
    "print(dic['sex'])"
   ]
  },
  {
   "cell_type": "code",
   "execution_count": 26,
   "id": "6650b894",
   "metadata": {},
   "outputs": [
    {
     "name": "stdout",
     "output_type": "stream",
     "text": [
      "<class 'NoneType'>\n"
     ]
    }
   ],
   "source": [
    "\n",
    "print(type(dic['sex']))"
   ]
  }
 ],
 "metadata": {
  "kernelspec": {
   "display_name": "Python 3 (ipykernel)",
   "language": "python",
   "name": "python3"
  },
  "language_info": {
   "codemirror_mode": {
    "name": "ipython",
    "version": 3
   },
   "file_extension": ".py",
   "mimetype": "text/x-python",
   "name": "python",
   "nbconvert_exporter": "python",
   "pygments_lexer": "ipython3",
   "version": "3.9.7"
  }
 },
 "nbformat": 4,
 "nbformat_minor": 5
}
